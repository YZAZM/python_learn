{
 "cells": [
  {
   "cell_type": "markdown",
   "id": "78db5460-aad7-4bdf-8fee-623d0484b7c7",
   "metadata": {},
   "source": [
    "# 函数"
   ]
  },
  {
   "cell_type": "markdown",
   "id": "5e2269cb-f151-4c44-9434-dbff2231c459",
   "metadata": {
    "jp-MarkdownHeadingCollapsed": true
   },
   "source": [
    "## 定义函数"
   ]
  },
  {
   "cell_type": "code",
   "execution_count": 1,
   "id": "b1b64520-7f39-42e8-bbbc-e0fd08af3b6d",
   "metadata": {},
   "outputs": [],
   "source": [
    "def display_message():\n",
    "    print('函数')"
   ]
  },
  {
   "cell_type": "code",
   "execution_count": 2,
   "id": "7b5b8c32-fc05-4f77-8b50-2e5c687c403e",
   "metadata": {},
   "outputs": [
    {
     "name": "stdout",
     "output_type": "stream",
     "text": [
      "函数\n"
     ]
    }
   ],
   "source": [
    "display_message()"
   ]
  },
  {
   "cell_type": "code",
   "execution_count": 3,
   "id": "eaf021d9-84b4-4877-83e3-397c7ac3adc1",
   "metadata": {},
   "outputs": [],
   "source": [
    "def favorite_book(bookname):\n",
    "    print('One of my favorite books is ' + bookname.title() +'。')"
   ]
  },
  {
   "cell_type": "code",
   "execution_count": 4,
   "id": "2db0eef0-7ba2-40fd-a7d7-bf317e694ac1",
   "metadata": {},
   "outputs": [
    {
     "name": "stdout",
     "output_type": "stream",
     "text": [
      "One of my favorite books is Alice In Worderland。\n"
     ]
    }
   ],
   "source": [
    "favorite_book('alice in worderland')"
   ]
  },
  {
   "cell_type": "markdown",
   "id": "68ed735b-459b-4d27-8ab4-1164c273a631",
   "metadata": {
    "jp-MarkdownHeadingCollapsed": true
   },
   "source": [
    "## 传递实参"
   ]
  },
  {
   "cell_type": "code",
   "execution_count": 5,
   "id": "cb649f0a-91b8-43ef-8be1-6769220140fc",
   "metadata": {},
   "outputs": [],
   "source": [
    "def describe_pet(animal_type,pet_name):\n",
    "    print('\\nI have a '+animal_type+'.')\n",
    "    print('\\nMy '+animal_type+\"'s name is \"+pet_name.title()+'.')"
   ]
  },
  {
   "cell_type": "markdown",
   "id": "fbe1952d-9389-454a-a922-7da49211d280",
   "metadata": {},
   "source": [
    "### 位置实参"
   ]
  },
  {
   "cell_type": "code",
   "execution_count": 6,
   "id": "af6af777-f2f6-45f9-b413-4425816d9bdd",
   "metadata": {},
   "outputs": [
    {
     "name": "stdout",
     "output_type": "stream",
     "text": [
      "\n",
      "I have a hamster.\n",
      "\n",
      "My hamster's name is Harry.\n"
     ]
    }
   ],
   "source": [
    "describe_pet('hamster','harry') # 位置实参"
   ]
  },
  {
   "cell_type": "code",
   "execution_count": 7,
   "id": "947014f4-a065-4aa6-9f6b-3599c22bc348",
   "metadata": {},
   "outputs": [
    {
     "name": "stdout",
     "output_type": "stream",
     "text": [
      "\n",
      "I have a dog.\n",
      "\n",
      "My dog's name is Xixi.\n"
     ]
    }
   ],
   "source": [
    "describe_pet('dog','xixi')"
   ]
  },
  {
   "cell_type": "markdown",
   "id": "f147e3b2-d482-4591-a0c4-79641c203b5a",
   "metadata": {},
   "source": [
    "### 关键字实参"
   ]
  },
  {
   "cell_type": "code",
   "execution_count": 8,
   "id": "5f22aad9-2eed-45c0-94eb-1d2ca05d987e",
   "metadata": {},
   "outputs": [
    {
     "name": "stdout",
     "output_type": "stream",
     "text": [
      "\n",
      "I have a hamster.\n",
      "\n",
      "My hamster's name is Harry.\n"
     ]
    }
   ],
   "source": [
    "describe_pet(animal_type='hamster',pet_name='harry') #关键字实参"
   ]
  },
  {
   "cell_type": "markdown",
   "id": "aa5d0c8e-c969-466c-ba67-c210903ab468",
   "metadata": {},
   "source": [
    "### 默认值"
   ]
  },
  {
   "cell_type": "markdown",
   "id": "466f7ff2-b2ca-4934-b2cd-f825d5593f9b",
   "metadata": {},
   "source": [
    "- 给形参一个指定的值，当在调用函数时提供实参时，使用实参，否则使用默认值。"
   ]
  },
  {
   "cell_type": "code",
   "execution_count": 9,
   "id": "062f8274-f9f9-4a99-b591-dbbe40d6267b",
   "metadata": {},
   "outputs": [],
   "source": [
    "def describe_pet1(pet_name,animal_type='dog'):\n",
    "    print('\\nI have a '+animal_type+'.')\n",
    "    print('\\nMy '+animal_type+\"'s name is \"+ pet_name.title()+'.')"
   ]
  },
  {
   "cell_type": "code",
   "execution_count": 10,
   "id": "f1447a47-5301-4222-8011-b394be4b5113",
   "metadata": {},
   "outputs": [
    {
     "name": "stdout",
     "output_type": "stream",
     "text": [
      "\n",
      "I have a hamster.\n",
      "\n",
      "My hamster's name is Harry.\n"
     ]
    }
   ],
   "source": [
    "describe_pet1(animal_type='hamster',pet_name='harry') "
   ]
  },
  {
   "cell_type": "code",
   "execution_count": 11,
   "id": "fac45873-567a-475c-8cb9-942b1b3a9ab2",
   "metadata": {},
   "outputs": [
    {
     "name": "stdout",
     "output_type": "stream",
     "text": [
      "\n",
      "I have a dog.\n",
      "\n",
      "My dog's name is Harry.\n"
     ]
    }
   ],
   "source": [
    "describe_pet1('harry')"
   ]
  },
  {
   "cell_type": "markdown",
   "id": "913cf693-8ffa-4f0d-806f-28badc8903e3",
   "metadata": {},
   "source": [
    "### 练习"
   ]
  },
  {
   "cell_type": "code",
   "execution_count": 12,
   "id": "4ca9e8e4-d454-49e9-9aa4-9e4f6b86dcdb",
   "metadata": {},
   "outputs": [],
   "source": [
    "def make_shirt(size,shirt_type):\n",
    "    print('My shirt is '+ size +' and it have '+ shirt_type.title() + '.')"
   ]
  },
  {
   "cell_type": "code",
   "execution_count": 13,
   "id": "2971768f-91f0-4005-8b02-b15385c7e250",
   "metadata": {},
   "outputs": [
    {
     "name": "stdout",
     "output_type": "stream",
     "text": [
      "My shirt is 180 and it have I Love China.\n"
     ]
    }
   ],
   "source": [
    "make_shirt('180','i love china')"
   ]
  },
  {
   "cell_type": "code",
   "execution_count": 14,
   "id": "c74b0a41-30f8-4fd2-abba-5d97458e75ca",
   "metadata": {},
   "outputs": [],
   "source": [
    "def make_shirt(size,shirt_type='i love python'):\n",
    "    print('My shirt is '+ size +' and it have '+ shirt_type.title() + '.')"
   ]
  },
  {
   "cell_type": "code",
   "execution_count": 15,
   "id": "5f90bfd3-fabd-413f-ba8e-ed1212e91b23",
   "metadata": {},
   "outputs": [
    {
     "name": "stdout",
     "output_type": "stream",
     "text": [
      "My shirt is big and it have I Love Python.\n"
     ]
    }
   ],
   "source": [
    "make_shirt('big')"
   ]
  },
  {
   "cell_type": "code",
   "execution_count": 16,
   "id": "7ac12468-61a3-4771-90b4-58abae1fd281",
   "metadata": {},
   "outputs": [
    {
     "name": "stdout",
     "output_type": "stream",
     "text": [
      "My shirt is middle and it have I Love Python.\n"
     ]
    }
   ],
   "source": [
    "make_shirt('middle')"
   ]
  },
  {
   "cell_type": "code",
   "execution_count": 17,
   "id": "94e91ba1-4d3a-4867-b90f-34ce57c3010c",
   "metadata": {},
   "outputs": [
    {
     "name": "stdout",
     "output_type": "stream",
     "text": [
      "My shirt is middle and it have I Love C.\n"
     ]
    }
   ],
   "source": [
    "make_shirt('middle','i love c')"
   ]
  },
  {
   "cell_type": "code",
   "execution_count": 18,
   "id": "30da0d82-f2cf-4c90-9daa-fa7296de962a",
   "metadata": {},
   "outputs": [],
   "source": [
    "def describe_city(city_name,city_country='China'):\n",
    "    print(city_name+' is in '+city_country)"
   ]
  },
  {
   "cell_type": "code",
   "execution_count": 19,
   "id": "4aae5c77-66c8-4470-9e45-1270b95e3ac3",
   "metadata": {},
   "outputs": [
    {
     "name": "stdout",
     "output_type": "stream",
     "text": [
      "beijing is in China\n"
     ]
    }
   ],
   "source": [
    "describe_city('beijing')"
   ]
  },
  {
   "cell_type": "code",
   "execution_count": 20,
   "id": "358a3b4d-f529-418c-b326-18b0c968409d",
   "metadata": {},
   "outputs": [
    {
     "name": "stdout",
     "output_type": "stream",
     "text": [
      "longdon is in England\n"
     ]
    }
   ],
   "source": [
    "describe_city('longdon','England')"
   ]
  },
  {
   "cell_type": "code",
   "execution_count": 21,
   "id": "ba14af57-505d-4b97-961f-74d9764c5adb",
   "metadata": {},
   "outputs": [
    {
     "name": "stdout",
     "output_type": "stream",
     "text": [
      "shanghai is in China\n"
     ]
    }
   ],
   "source": [
    "describe_city('shanghai')"
   ]
  },
  {
   "cell_type": "markdown",
   "id": "e89a4311-c5d6-47bb-aeaf-263e6f2c41b9",
   "metadata": {},
   "source": [
    "## 返回值"
   ]
  },
  {
   "cell_type": "markdown",
   "id": "57d5f056-5ed9-4ea1-91ca-dc0b90ff7b15",
   "metadata": {},
   "source": [
    "- 函数并不是直接输出的。相反，它可以处理一些数据，并返回一个或者一组值。称为返回值。"
   ]
  },
  {
   "cell_type": "markdown",
   "id": "1250c546-43b3-4127-88c5-480e9b8dadd2",
   "metadata": {
    "jp-MarkdownHeadingCollapsed": true
   },
   "source": [
    "### 返回一个简单值"
   ]
  },
  {
   "cell_type": "code",
   "execution_count": 22,
   "id": "6ca36cae-d36e-48d8-9a84-8921a75d8e6d",
   "metadata": {},
   "outputs": [],
   "source": [
    "def get_formatted_name(first_name, last_name):\n",
    "    full_name = first_name + ' '+last_name\n",
    "    return full_name.title()"
   ]
  },
  {
   "cell_type": "code",
   "execution_count": 23,
   "id": "09b0e7bd-a65e-4beb-b7c5-0811786a9821",
   "metadata": {},
   "outputs": [
    {
     "data": {
      "text/plain": [
       "'Jimi Hendix'"
      ]
     },
     "execution_count": 23,
     "metadata": {},
     "output_type": "execute_result"
    }
   ],
   "source": [
    "musician = get_formatted_name('jimi','hendix')\n",
    "musician"
   ]
  },
  {
   "cell_type": "markdown",
   "id": "a26be142-3730-40e2-b5e8-5d7ff16e9ea3",
   "metadata": {
    "jp-MarkdownHeadingCollapsed": true
   },
   "source": [
    "### 让实参变成可选"
   ]
  },
  {
   "cell_type": "code",
   "execution_count": 24,
   "id": "6783b35b-84fe-481a-8b2b-a6a5a4c0f5ab",
   "metadata": {},
   "outputs": [],
   "source": [
    "def get_formatted_name(first_name,last_name,middle_name=''):\n",
    "    if middle_name:\n",
    "        full_name = first_name +' '+middle_name+ ' '+last_name\n",
    "    else:\n",
    "        full_name = first_name+ ' '+last_name\n",
    "    return full_name.title()"
   ]
  },
  {
   "cell_type": "code",
   "execution_count": 25,
   "id": "736a20b8-0f9e-406d-ab06-28bb8f4a0269",
   "metadata": {},
   "outputs": [
    {
     "data": {
      "text/plain": [
       "'Jimi Hendix'"
      ]
     },
     "execution_count": 25,
     "metadata": {},
     "output_type": "execute_result"
    }
   ],
   "source": [
    "musician = get_formatted_name('jimi','hendix')\n",
    "musician"
   ]
  },
  {
   "cell_type": "code",
   "execution_count": 26,
   "id": "ec1ca7c6-fc41-45f4-8d8d-ff8beb29023d",
   "metadata": {},
   "outputs": [
    {
     "data": {
      "text/plain": [
       "'John Lee Hooker'"
      ]
     },
     "execution_count": 26,
     "metadata": {},
     "output_type": "execute_result"
    }
   ],
   "source": [
    "musician = get_formatted_name('john', 'hooker', 'lee')\n",
    "musician "
   ]
  },
  {
   "cell_type": "markdown",
   "id": "d86f123e-b46c-4962-a1c6-60b38a84b753",
   "metadata": {
    "jp-MarkdownHeadingCollapsed": true
   },
   "source": [
    "### 返回字典"
   ]
  },
  {
   "cell_type": "code",
   "execution_count": 27,
   "id": "13bf93b4-1c95-4dab-9b6a-fc6cea2a9052",
   "metadata": {},
   "outputs": [],
   "source": [
    "def build_person(first_name,last_name):\n",
    "    person = {'first' : first_name,'last' : last_name}\n",
    "    return person"
   ]
  },
  {
   "cell_type": "code",
   "execution_count": 28,
   "id": "f15017ef-af3a-4321-abed-ca9a1e367ba4",
   "metadata": {},
   "outputs": [
    {
     "data": {
      "text/plain": [
       "{'first': 'jimi', 'last': 'hendix'}"
      ]
     },
     "execution_count": 28,
     "metadata": {},
     "output_type": "execute_result"
    }
   ],
   "source": [
    "musician =build_person ('jimi','hendix')\n",
    "musician"
   ]
  },
  {
   "cell_type": "code",
   "execution_count": 29,
   "id": "4e7a5580-b2ad-467d-b333-47e690de47ef",
   "metadata": {},
   "outputs": [],
   "source": [
    "def build_person(first_name,last_name,age = ''):\n",
    "    person = {'first' : first_name,'last' : last_name}\n",
    "    if age:\n",
    "        person['age'] = age\n",
    "    return person"
   ]
  },
  {
   "cell_type": "code",
   "execution_count": 30,
   "id": "fbd25783-966b-4424-89d7-2521693a8b62",
   "metadata": {},
   "outputs": [
    {
     "data": {
      "text/plain": [
       "{'first': 'jimi', 'last': 'hendix', 'age': '26'}"
      ]
     },
     "execution_count": 30,
     "metadata": {},
     "output_type": "execute_result"
    }
   ],
   "source": [
    "musician =build_person ('jimi','hendix','26')\n",
    "musician"
   ]
  },
  {
   "cell_type": "code",
   "execution_count": 31,
   "id": "21bc4c5f-33db-4325-8b30-0b8d28102f69",
   "metadata": {},
   "outputs": [
    {
     "data": {
      "text/plain": [
       "{'first': 'jimi', 'last': 'hendix'}"
      ]
     },
     "execution_count": 31,
     "metadata": {},
     "output_type": "execute_result"
    }
   ],
   "source": [
    "musician =build_person ('jimi','hendix')\n",
    "musician"
   ]
  },
  {
   "cell_type": "markdown",
   "id": "1ff0ef3f-622e-4842-b40b-14ee76368225",
   "metadata": {},
   "source": [
    "### 结合使用函数和while循环"
   ]
  },
  {
   "cell_type": "code",
   "execution_count": 32,
   "id": "20a0f1d0-605b-4ed4-ae9a-63e8f87ccdcb",
   "metadata": {},
   "outputs": [],
   "source": [
    "def get_formatted_name(first_name, last_name):\n",
    "    full_name = first_name + ' '+last_name\n",
    "    return full_name.title()"
   ]
  },
  {
   "cell_type": "markdown",
   "id": "9a747fa2-7f28-42e5-9d77-22d0dacac848",
   "metadata": {},
   "source": [
    "- 注意下面的一行代码，它是无限循环，没有添加停止的条件。"
   ]
  },
  {
   "cell_type": "code",
   "execution_count": 33,
   "id": "025c014b-74d8-4f41-8f8c-4e1428ae3ec5",
   "metadata": {},
   "outputs": [
    {
     "name": "stdout",
     "output_type": "stream",
     "text": [
      "错误代码，可以去掉#号进行模拟\n"
     ]
    },
    {
     "data": {
      "text/plain": [
       "\"\\nwhile True:\\n    print('\\nPlease tell me your name')\\n    f_name = input('first name:')\\n    l_name = input('last name：')\\n\\n    formatted_name = get_formatted_name(f_name,l_name)\\n    print('\\nHello, '+formatted_name+'!') \\n\""
      ]
     },
     "execution_count": 33,
     "metadata": {},
     "output_type": "execute_result"
    }
   ],
   "source": [
    "print('错误代码，可以去掉#号进行模拟')\n",
    "'''\n",
    "while True:\n",
    "    print('\\nPlease tell me your name')\n",
    "    f_name = input('first name:')\n",
    "    l_name = input('last name：')\n",
    "\n",
    "    formatted_name = get_formatted_name(f_name,l_name)\n",
    "    print('\\nHello, '+formatted_name+'!') \n",
    "'''"
   ]
  },
  {
   "cell_type": "code",
   "execution_count": 34,
   "id": "51c51125-1e8e-45f7-a841-7fcdc2778a65",
   "metadata": {},
   "outputs": [
    {
     "name": "stdout",
     "output_type": "stream",
     "text": [
      "正确代码\n",
      "\n",
      "Please tell me your name\n",
      "(enter 'q' at any time to quit)\n"
     ]
    },
    {
     "name": "stdin",
     "output_type": "stream",
     "text": [
      "first name: xc\n",
      "last name： dds\n"
     ]
    },
    {
     "name": "stdout",
     "output_type": "stream",
     "text": [
      "\n",
      "Hello, Xc Dds!\n",
      "\n",
      "Please tell me your name\n",
      "(enter 'q' at any time to quit)\n"
     ]
    },
    {
     "name": "stdin",
     "output_type": "stream",
     "text": [
      "first name: q\n"
     ]
    }
   ],
   "source": [
    "print('正确代码')\n",
    "while True:\n",
    "    print('\\nPlease tell me your name')\n",
    "    '''添加一条信息，使得用户可以明白怎样退出'''\n",
    "    print(\"(enter 'q' at any time to quit)\")\n",
    "    \n",
    "    f_name = input('first name:')\n",
    "    if f_name == 'q':\n",
    "        break\n",
    "    l_name = input('last name：')\n",
    "    if l_name == 'q':\n",
    "        break\n",
    "\n",
    "    formatted_name = get_formatted_name(f_name,l_name)\n",
    "    print('\\nHello, '+formatted_name+'!') "
   ]
  },
  {
   "cell_type": "markdown",
   "id": "b5c34878-8ac8-472c-b934-79fc46bd8514",
   "metadata": {},
   "source": [
    "### 练习"
   ]
  },
  {
   "cell_type": "code",
   "execution_count": 35,
   "id": "cc247a41-6f83-44e1-8c37-407cce059361",
   "metadata": {},
   "outputs": [],
   "source": [
    "def city_country(city_name,country_name):\n",
    "    output = city_name+', '+country_name\n",
    "    return output.title()"
   ]
  },
  {
   "cell_type": "code",
   "execution_count": 36,
   "id": "778a6b41-5378-442e-be34-74c999548ace",
   "metadata": {},
   "outputs": [
    {
     "data": {
      "text/plain": [
       "'Shanghai, China'"
      ]
     },
     "execution_count": 36,
     "metadata": {},
     "output_type": "execute_result"
    }
   ],
   "source": [
    "city_country('shanghai','china')"
   ]
  },
  {
   "cell_type": "code",
   "execution_count": 37,
   "id": "bac69e76-5616-4ab8-8d00-9e290a7aa302",
   "metadata": {},
   "outputs": [],
   "source": [
    "def make_album(name1,name2,number=''):\n",
    "    t = {'songer_name':name1,'song_name':name2}\n",
    "    if number:\n",
    "        t['song_number'] = number\n",
    "    return t"
   ]
  },
  {
   "cell_type": "code",
   "execution_count": 38,
   "id": "7844e12a-0de5-4f6f-8b7c-adb5da8673fb",
   "metadata": {},
   "outputs": [
    {
     "data": {
      "text/plain": [
       "{'songer_name': 'zhoujielun', 'song_name': 'qinghuazi'}"
      ]
     },
     "execution_count": 38,
     "metadata": {},
     "output_type": "execute_result"
    }
   ],
   "source": [
    "make_album('zhoujielun','qinghuazi')"
   ]
  },
  {
   "cell_type": "code",
   "execution_count": 39,
   "id": "8af2d258-98d6-46c4-a32e-dcdd334c1a17",
   "metadata": {},
   "outputs": [
    {
     "data": {
      "text/plain": [
       "{'songer_name': 'zhoujielun', 'song_name': 'qinghuazi', 'song_number': '59'}"
      ]
     },
     "execution_count": 39,
     "metadata": {},
     "output_type": "execute_result"
    }
   ],
   "source": [
    "make_album('zhoujielun','qinghuazi','59')"
   ]
  },
  {
   "cell_type": "code",
   "execution_count": 41,
   "id": "0e0b74a8-a74f-4989-855e-62c1c5ae80bd",
   "metadata": {},
   "outputs": [
    {
     "name": "stdout",
     "output_type": "stream",
     "text": [
      "\n",
      "tell me songer and song\n",
      "(请使用‘q’来退出)\n"
     ]
    },
    {
     "name": "stdin",
     "output_type": "stream",
     "text": [
      "输入歌手名字： sx\n",
      "输入专辑名称： sd\n"
     ]
    },
    {
     "name": "stdout",
     "output_type": "stream",
     "text": [
      "\n",
      "tell me songer and song\n",
      "(请使用‘q’来退出)\n"
     ]
    },
    {
     "name": "stdin",
     "output_type": "stream",
     "text": [
      "输入歌手名字： q\n"
     ]
    },
    {
     "data": {
      "text/plain": [
       "{'songer_name': 'q', 'song_name': 'sd'}"
      ]
     },
     "execution_count": 41,
     "metadata": {},
     "output_type": "execute_result"
    }
   ],
   "source": [
    "while True:\n",
    "    print('\\ntell me songer and song')\n",
    "    print(\"(请使用‘q’来退出)\")\n",
    "\n",
    "    n1 = input('输入歌手名字：')\n",
    "    if n1 == 'q':\n",
    "        break\n",
    "    n2 = input('输入专辑名称：')\n",
    "    if n2 == 'q':\n",
    "        break\n",
    "make_album(n1,n2)"
   ]
  },
  {
   "cell_type": "markdown",
   "id": "eff9dbcd-cc3b-4c3e-9f1a-8844691d5826",
   "metadata": {},
   "source": [
    "## 传递列表"
   ]
  },
  {
   "cell_type": "code",
   "execution_count": 42,
   "id": "91abf802-398d-44ce-8ad8-b8d1fea21fd0",
   "metadata": {},
   "outputs": [],
   "source": [
    "def greet_user(names):\n",
    "    for name in names:\n",
    "        msg = 'Hello, '+name.title()+'!'\n",
    "        print(msg)"
   ]
  },
  {
   "cell_type": "code",
   "execution_count": 43,
   "id": "50d3e346-d372-44f3-906d-8bdc65bb74f6",
   "metadata": {},
   "outputs": [
    {
     "name": "stdout",
     "output_type": "stream",
     "text": [
      "Hello, S!\n",
      "Hello, D!\n",
      "Hello, C!\n",
      "Hello, Y!\n"
     ]
    }
   ],
   "source": [
    "username=['s','d','c','y']\n",
    "greet_user(username)"
   ]
  },
  {
   "cell_type": "markdown",
   "id": "a87f1f10-f2d5-4559-83ff-b2ecd771b45b",
   "metadata": {},
   "source": [
    "### 在函数中修改列表"
   ]
  },
  {
   "cell_type": "markdown",
   "id": "cb3db05a-03ab-4121-bc5b-aa09ac2e28cb",
   "metadata": {},
   "source": [
    "#### 模型打印项目原始代码"
   ]
  },
  {
   "cell_type": "code",
   "execution_count": 48,
   "id": "84c2048c-8463-4ba0-9536-17737b4a23df",
   "metadata": {},
   "outputs": [
    {
     "name": "stdout",
     "output_type": "stream",
     "text": [
      "Printing model: dodecahedron\n",
      "Printing model: robot pendant\n",
      "Printing model: iphone\n",
      "\n",
      "The following models have been printed\n",
      "dodecahedron\n",
      "robot pendant\n",
      "iphone\n"
     ]
    }
   ],
   "source": [
    "# 首先创建一个列表包含一些要打印的模型。\n",
    "unprinted_designs = ['iphone','robot pendant','dodecahedron']\n",
    "complted_models = []\n",
    "\n",
    "# 模拟打印每个设计，直到全部打印完。\n",
    "# 打印完每个设计后 ，将其添加到空列表。\n",
    "while unprinted_designs:\n",
    "    current_design = unprinted_designs.pop()\n",
    "\n",
    "    # 模拟根据设计制作3D打印模型的制作过程\n",
    "    print('Printing model: '+current_design)\n",
    "    complted_models.append(current_design)\n",
    "# 显示打印好的模\n",
    "print('\\nThe following models have been printed')\n",
    "for complted_model in complted_models:\n",
    "    print(complted_model)"
   ]
  },
  {
   "cell_type": "markdown",
   "id": "08433b73-1619-4852-a2e0-40b89f111b08",
   "metadata": {},
   "source": [
    "#### 模型打印项目函数代码"
   ]
  },
  {
   "cell_type": "code",
   "execution_count": 49,
   "id": "742cadba-cc61-47bf-bc73-64ebae8dbeb0",
   "metadata": {},
   "outputs": [],
   "source": [
    "def print_models(unprinted_designs,complted_design):\n",
    "    '''\n",
    "    模拟打印每个设计，直到全部打印完。\n",
    "    打印完每个设计后 ，将其添加到空列表。\n",
    "    '''\n",
    "    while unprinted_designs:\n",
    "        current_design = unprinted_designs.pop()\n",
    "        # 模拟根据设计制作3D打印模型的制作过程\n",
    "        print('Printing model : ' + current_design)\n",
    "        complted_models.append(current_design)        "
   ]
  },
  {
   "cell_type": "code",
   "execution_count": 50,
   "id": "5aae8425-ddfb-49a7-b4d5-b82b3c8a1050",
   "metadata": {},
   "outputs": [],
   "source": [
    "def show_complted_models(complted_models):\n",
    "    # 显示打印好的模型\n",
    "    print('\\nThe following models have been printed')\n",
    "    for complted_model in complted_models:\n",
    "        print(complted_model)"
   ]
  },
  {
   "cell_type": "code",
   "execution_count": 58,
   "id": "b9282255-d3fa-45d3-a2e2-dd03c13b34af",
   "metadata": {},
   "outputs": [
    {
     "name": "stdout",
     "output_type": "stream",
     "text": [
      "Printing model : dodecahedron\n",
      "Printing model : robot pendant\n",
      "Printing model : iphone\n",
      "\n",
      "The following models have been printed\n",
      "dodecahedron\n",
      "robot pendant\n",
      "iphone\n"
     ]
    }
   ],
   "source": [
    "unprinted_designs = ['iphone','robot pendant','dodecahedron']\n",
    "complted_models = []\n",
    "print_models(unprinted_designs,complted_models)\n",
    "show_complted_models(complted_models)"
   ]
  },
  {
   "cell_type": "markdown",
   "id": "0b3054cf-1253-4963-9941-fee5dbca4f7b",
   "metadata": {},
   "source": [
    "### 禁止函数修改列表"
   ]
  },
  {
   "cell_type": "markdown",
   "id": "7402ee05-9c65-4bae-9afe-1c9cbd97bcab",
   "metadata": {},
   "source": [
    "- 切片表示法[ : ]创建列表的副本，在print_models.py中，如果不想清空未打印的设计列表，可像下面一样调用orint_models():"
   ]
  },
  {
   "cell_type": "code",
   "execution_count": 60,
   "id": "bd1d6d28-464a-455a-95bc-6626ff1c4e1d",
   "metadata": {},
   "outputs": [],
   "source": [
    "print_models(unprinted_designs[:] , complted_models)"
   ]
  },
  {
   "cell_type": "markdown",
   "id": "35957472-4f1a-4641-8a6c-362b438df7ca",
   "metadata": {},
   "source": [
    "## 传递任意数量的实参"
   ]
  },
  {
   "cell_type": "markdown",
   "id": "c856492a-2e26-4323-9c97-1b2033aea425",
   "metadata": {},
   "source": [
    "- 形参名 *toppings 中的星号让python创建一个名为toppings的空元组，将其收到的所有值都封装到这个元组中。"
   ]
  },
  {
   "cell_type": "code",
   "execution_count": 61,
   "id": "b4dffd67-a817-42e0-9257-dadc5efea8e8",
   "metadata": {},
   "outputs": [],
   "source": [
    "def make_pizza(*toppings):\n",
    "    print(toppings)"
   ]
  },
  {
   "cell_type": "code",
   "execution_count": 62,
   "id": "425da04c-64e8-48b6-be81-3f7f2b39097d",
   "metadata": {},
   "outputs": [
    {
     "name": "stdout",
     "output_type": "stream",
     "text": [
      "('pepperoni',)\n",
      "('mushroom', 'green peppers', 'extra cheese')\n"
     ]
    }
   ],
   "source": [
    "make_pizza('pepperoni')\n",
    "make_pizza('mushroom','green peppers','extra cheese')"
   ]
  },
  {
   "cell_type": "code",
   "execution_count": 64,
   "id": "c1bbf5d3-07c6-4d21-82ef-48c3ed9d9118",
   "metadata": {},
   "outputs": [
    {
     "name": "stdout",
     "output_type": "stream",
     "text": [
      "\n",
      "Making a pizza with the following toppings: \n",
      " - pepperoni\n",
      "\n",
      "Making a pizza with the following toppings: \n",
      " - mushroom\n",
      " - green peppers\n",
      " - extra cheese\n"
     ]
    }
   ],
   "source": [
    "def make_pizza(*toppings):\n",
    "    print('\\nMaking a pizza with the following toppings: ')\n",
    "    for topping in toppings:\n",
    "        print(' - '+topping)\n",
    "make_pizza('pepperoni')\n",
    "make_pizza('mushroom','green peppers','extra cheese')"
   ]
  },
  {
   "cell_type": "code",
   "execution_count": 66,
   "id": "cf841556-3d7b-4b11-93db-bbb7d8c7961a",
   "metadata": {},
   "outputs": [
    {
     "name": "stdout",
     "output_type": "stream",
     "text": [
      "{'first_name': 'albert', 'last_name': 'sinstein', 'location': 'princeton', 'filed': 'physics'}\n"
     ]
    }
   ],
   "source": [
    "def build_profile(first,last,**user_info):\n",
    "    profile = {}\n",
    "    profile['first_name']=first\n",
    "    profile['last_name']=last\n",
    "    for key ,value in user_info.items():\n",
    "        profile[key] = value\n",
    "    return profile\n",
    "user_profile = build_profile('albert','sinstein',location = 'princeton',filed = 'physics')\n",
    "print(user_profile)"
   ]
  },
  {
   "cell_type": "code",
   "execution_count": null,
   "id": "3eaeb639-e9f1-489f-b45f-db0fead1a0bf",
   "metadata": {},
   "outputs": [],
   "source": []
  },
  {
   "cell_type": "code",
   "execution_count": null,
   "id": "c74d23ee-836e-4381-9141-c6ca9bcf4996",
   "metadata": {},
   "outputs": [],
   "source": []
  },
  {
   "cell_type": "code",
   "execution_count": null,
   "id": "1f9413e1-a844-44c0-bf8a-7e948024acab",
   "metadata": {},
   "outputs": [],
   "source": []
  },
  {
   "cell_type": "code",
   "execution_count": null,
   "id": "5c46f4d4-62d2-46ef-97bb-9152ce022fe4",
   "metadata": {},
   "outputs": [],
   "source": []
  },
  {
   "cell_type": "code",
   "execution_count": null,
   "id": "d04247b6-15c1-453e-b950-e606f243b038",
   "metadata": {},
   "outputs": [],
   "source": []
  },
  {
   "cell_type": "code",
   "execution_count": null,
   "id": "fe86976b-7611-47ee-a254-951ce1b44824",
   "metadata": {},
   "outputs": [],
   "source": []
  },
  {
   "cell_type": "code",
   "execution_count": null,
   "id": "5fa0f5ee-a20a-4c76-89fb-62dbbed6d4c3",
   "metadata": {},
   "outputs": [],
   "source": []
  },
  {
   "cell_type": "code",
   "execution_count": null,
   "id": "38adb3d4-ba1d-4c9e-a39a-1431060f3ac6",
   "metadata": {},
   "outputs": [],
   "source": []
  },
  {
   "cell_type": "code",
   "execution_count": null,
   "id": "0ebdb982-d8a3-4b77-bbb0-2c60d9001548",
   "metadata": {},
   "outputs": [],
   "source": []
  },
  {
   "cell_type": "code",
   "execution_count": null,
   "id": "4794b48d-3d54-400c-9c0d-69423a90576b",
   "metadata": {},
   "outputs": [],
   "source": []
  },
  {
   "cell_type": "code",
   "execution_count": null,
   "id": "aa107916-d1d6-4d8e-a2a9-035068ab6c55",
   "metadata": {},
   "outputs": [],
   "source": []
  },
  {
   "cell_type": "code",
   "execution_count": null,
   "id": "0a0610b6-0951-42d9-b2cd-547bc8814970",
   "metadata": {},
   "outputs": [],
   "source": []
  },
  {
   "cell_type": "code",
   "execution_count": null,
   "id": "3d7bf6a7-503a-48f8-9ae7-89544bec72d8",
   "metadata": {},
   "outputs": [],
   "source": []
  }
 ],
 "metadata": {
  "kernelspec": {
   "display_name": "Python [conda env:base] *",
   "language": "python",
   "name": "conda-base-py"
  },
  "language_info": {
   "codemirror_mode": {
    "name": "ipython",
    "version": 3
   },
   "file_extension": ".py",
   "mimetype": "text/x-python",
   "name": "python",
   "nbconvert_exporter": "python",
   "pygments_lexer": "ipython3",
   "version": "3.12.7"
  }
 },
 "nbformat": 4,
 "nbformat_minor": 5
}
