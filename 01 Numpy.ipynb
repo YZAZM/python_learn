{
 "cells": [
  {
   "cell_type": "markdown",
   "id": "eb3ec846-b8ff-4abc-a98c-5ef486074080",
   "metadata": {},
   "source": [
    "# Numpy learn"
   ]
  },
  {
   "cell_type": "markdown",
   "id": "80b76a97-d452-42a1-9f6d-60e926e91e88",
   "metadata": {
    "jp-MarkdownHeadingCollapsed": true
   },
   "source": [
    "## 数组学习 "
   ]
  },
  {
   "cell_type": "code",
   "execution_count": 1,
   "id": "efa61548-361c-4e76-88ca-5c8c15be9fb5",
   "metadata": {},
   "outputs": [],
   "source": [
    "import numpy as np"
   ]
  },
  {
   "cell_type": "markdown",
   "id": "007fa2b3-4249-47b1-bf96-254ccde28288",
   "metadata": {},
   "source": [
    "要搞明白具体的性能差距，考察一个包含一百万整数的数组，和一个等价的Python列表"
   ]
  },
  {
   "cell_type": "code",
   "execution_count": 103,
   "id": "2ed5da1e-64cd-42e6-9057-cfb9775d8d5b",
   "metadata": {},
   "outputs": [],
   "source": [
    "my_arr = np.arange(1000000)"
   ]
  },
  {
   "cell_type": "code",
   "execution_count": 104,
   "id": "40e8e615-2b6c-484d-9046-02b75de7aa62",
   "metadata": {},
   "outputs": [],
   "source": [
    "my_list = list(range(1000000))"
   ]
  },
  {
   "cell_type": "code",
   "execution_count": 105,
   "id": "a193b842-a2f7-4a13-b026-9fc335ae6afc",
   "metadata": {},
   "outputs": [
    {
     "name": "stdout",
     "output_type": "stream",
     "text": [
      "CPU times: total: 15.6 ms\n",
      "Wall time: 13 ms\n"
     ]
    }
   ],
   "source": [
    "%time for  _ in range(10):my_arr2=my_arr*2"
   ]
  },
  {
   "cell_type": "code",
   "execution_count": 106,
   "id": "c789c40a-506c-4e8c-ab1d-56e27b663866",
   "metadata": {},
   "outputs": [
    {
     "name": "stdout",
     "output_type": "stream",
     "text": [
      "CPU times: total: 438 ms\n",
      "Wall time: 435 ms\n"
     ]
    }
   ],
   "source": [
    "%time for  _ in range(10) : my_list2=[x*2 for x in my_list]"
   ]
  },
  {
   "cell_type": "markdown",
   "id": "53952173-92e9-4ef4-b556-2642c3dc7f49",
   "metadata": {},
   "source": [
    "基于NumPy的算法要比纯Python快10到100倍（甚至更快），并且使用的内存更少。"
   ]
  },
  {
   "cell_type": "code",
   "execution_count": 6,
   "id": "df287691-9dd7-494c-9ae1-c07ed1c1b073",
   "metadata": {},
   "outputs": [],
   "source": [
    "data = np.random.randn(2,3)"
   ]
  },
  {
   "cell_type": "markdown",
   "id": "71a781d2-145e-40e4-8f01-bfb204bbe263",
   "metadata": {},
   "source": [
    "N维数组对象（即ndarray），个通用的同构数据多维容器，也就是说，其中的所有元素必须是相同类型的"
   ]
  },
  {
   "cell_type": "code",
   "execution_count": 7,
   "id": "7ca496c2-8c2d-4679-af07-bcf770556af5",
   "metadata": {},
   "outputs": [
    {
     "data": {
      "text/plain": [
       "array([[-0.08930165, -0.1191743 , -1.54596087],\n",
       "       [-1.4363802 , -0.21789544, -0.15907534]])"
      ]
     },
     "execution_count": 7,
     "metadata": {},
     "output_type": "execute_result"
    }
   ],
   "source": [
    "data"
   ]
  },
  {
   "cell_type": "code",
   "execution_count": 8,
   "id": "c5d5b6de-ba5c-4407-8a64-50ba9dfe401f",
   "metadata": {},
   "outputs": [
    {
     "data": {
      "text/plain": [
       "array([[ -0.89301648,  -1.19174303, -15.45960867],\n",
       "       [-14.36380197,  -2.17895439,  -1.59075338]])"
      ]
     },
     "execution_count": 8,
     "metadata": {},
     "output_type": "execute_result"
    }
   ],
   "source": [
    "data*10"
   ]
  },
  {
   "cell_type": "code",
   "execution_count": 9,
   "id": "6f43d146-a264-4b42-931f-cf4d882269de",
   "metadata": {},
   "outputs": [
    {
     "data": {
      "text/plain": [
       "array([[-0.1786033 , -0.23834861, -3.09192173],\n",
       "       [-2.87276039, -0.43579088, -0.31815068]])"
      ]
     },
     "execution_count": 9,
     "metadata": {},
     "output_type": "execute_result"
    }
   ],
   "source": [
    "data+data"
   ]
  },
  {
   "cell_type": "code",
   "execution_count": 10,
   "id": "531db46e-102f-48d4-bffc-b58cef19b82e",
   "metadata": {},
   "outputs": [
    {
     "data": {
      "text/plain": [
       "(2, 3)"
      ]
     },
     "execution_count": 10,
     "metadata": {},
     "output_type": "execute_result"
    }
   ],
   "source": [
    "data.shape"
   ]
  },
  {
   "cell_type": "code",
   "execution_count": 11,
   "id": "7e1fe818-3eb0-4ea7-b6fa-d6b24b027eea",
   "metadata": {},
   "outputs": [
    {
     "data": {
      "text/plain": [
       "dtype('float64')"
      ]
     },
     "execution_count": 11,
     "metadata": {},
     "output_type": "execute_result"
    }
   ],
   "source": [
    "data.dtype"
   ]
  },
  {
   "cell_type": "markdown",
   "id": "f092c8cf-8819-4093-9d6a-6b81d31004a3",
   "metadata": {},
   "source": [
    "###  创建ndarray,array函数的使用利用其创建多维数组"
   ]
  },
  {
   "cell_type": "code",
   "execution_count": 12,
   "id": "151b9a8e-6dde-491b-9018-07d481b000ea",
   "metadata": {},
   "outputs": [],
   "source": [
    "data1 = [1,2,3,4,5,6]"
   ]
  },
  {
   "cell_type": "markdown",
   "id": "00c2e1e9-35d8-464f-8f8f-ecaef2dc9a6d",
   "metadata": {},
   "source": [
    "用array函数。它接受一切序列型的对象（包括其他数组），\n",
    "然后产生一个新的含有传入数据的NumPy数组"
   ]
  },
  {
   "cell_type": "code",
   "execution_count": 13,
   "id": "b1327b3b-221d-4e23-b93c-db3f049ed219",
   "metadata": {},
   "outputs": [],
   "source": [
    "arr1 = np.array(data1)"
   ]
  },
  {
   "cell_type": "code",
   "execution_count": 14,
   "id": "0efa17a3-f0ff-43a2-b196-ff7844ee821a",
   "metadata": {},
   "outputs": [
    {
     "data": {
      "text/plain": [
       "array([1, 2, 3, 4, 5, 6])"
      ]
     },
     "execution_count": 14,
     "metadata": {},
     "output_type": "execute_result"
    }
   ],
   "source": [
    "arr1"
   ]
  },
  {
   "cell_type": "markdown",
   "id": "c780dc8a-9207-48b9-8086-e2d65cb0ff6e",
   "metadata": {},
   "source": [
    "嵌套序列（比如由一组等长列表组成的列表）将会被转换为一个多维数组"
   ]
  },
  {
   "cell_type": "code",
   "execution_count": 15,
   "id": "bd8919cf-5455-4db9-ab19-5c6b69a2a2bb",
   "metadata": {},
   "outputs": [],
   "source": [
    "data2=[[1,2,3,4],[1,2,3,4]]\n",
    "arr2 = np.array(data2)"
   ]
  },
  {
   "cell_type": "code",
   "execution_count": 16,
   "id": "719e79ad-e1a9-49f8-850f-40b9cc6a1810",
   "metadata": {},
   "outputs": [
    {
     "data": {
      "text/plain": [
       "array([[1, 2, 3, 4],\n",
       "       [1, 2, 3, 4]])"
      ]
     },
     "execution_count": 16,
     "metadata": {},
     "output_type": "execute_result"
    }
   ],
   "source": [
    "arr2"
   ]
  },
  {
   "cell_type": "code",
   "execution_count": 108,
   "id": "c44437fa-040c-4397-828f-d088593e2313",
   "metadata": {},
   "outputs": [
    {
     "data": {
      "text/plain": [
       "2"
      ]
     },
     "execution_count": 108,
     "metadata": {},
     "output_type": "execute_result"
    }
   ],
   "source": [
    "#检验arr2的属性\n",
    "arr2.ndim"
   ]
  },
  {
   "cell_type": "code",
   "execution_count": 109,
   "id": "826b8380-8ab7-447b-a48c-b3a23c8b854c",
   "metadata": {},
   "outputs": [
    {
     "data": {
      "text/plain": [
       "(2, 4)"
      ]
     },
     "execution_count": 109,
     "metadata": {},
     "output_type": "execute_result"
    }
   ],
   "source": [
    "arr2.shape"
   ]
  },
  {
   "cell_type": "code",
   "execution_count": 18,
   "id": "bf934067-a037-4a54-abe0-a806c83bff5b",
   "metadata": {},
   "outputs": [
    {
     "data": {
      "text/plain": [
       "dtype('int32')"
      ]
     },
     "execution_count": 18,
     "metadata": {},
     "output_type": "execute_result"
    }
   ],
   "source": [
    "arr1.dtype"
   ]
  },
  {
   "cell_type": "markdown",
   "id": "4dcea922-51ac-4280-9578-0bed9e121cf3",
   "metadata": {},
   "source": [
    "### zeros和ones分别可以创建指定长度或形状全为0或者1的数组"
   ]
  },
  {
   "cell_type": "code",
   "execution_count": 19,
   "id": "3a1a4b46-aa78-46ac-94bb-f82550a59a4a",
   "metadata": {},
   "outputs": [
    {
     "data": {
      "text/plain": [
       "array([0., 0., 0., 0., 0., 0., 0., 0., 0., 0.])"
      ]
     },
     "execution_count": 19,
     "metadata": {},
     "output_type": "execute_result"
    }
   ],
   "source": [
    "np.zeros(10)"
   ]
  },
  {
   "cell_type": "code",
   "execution_count": 20,
   "id": "229bdbe2-d927-45d3-bde3-b7bd937df6e6",
   "metadata": {},
   "outputs": [
    {
     "data": {
      "text/plain": [
       "array([[0., 0., 0., 0., 0., 0.],\n",
       "       [0., 0., 0., 0., 0., 0.],\n",
       "       [0., 0., 0., 0., 0., 0.]])"
      ]
     },
     "execution_count": 20,
     "metadata": {},
     "output_type": "execute_result"
    }
   ],
   "source": [
    "np.zeros((3,6))"
   ]
  },
  {
   "cell_type": "markdown",
   "id": "6b63fd03-d5c6-4c56-83f7-6c980747d71a",
   "metadata": {},
   "source": [
    "empty可以创建一个没有任何具体值的数组"
   ]
  },
  {
   "cell_type": "code",
   "execution_count": 111,
   "id": "a228c4ed-00eb-4b61-aaf6-6d49f26a842f",
   "metadata": {},
   "outputs": [
    {
     "data": {
      "text/plain": [
       "array([[0.53472222, 0.33722222, 0.53472222],\n",
       "       [4.03322222, 5.49472222, 0.33722222]])"
      ]
     },
     "execution_count": 111,
     "metadata": {},
     "output_type": "execute_result"
    }
   ],
   "source": [
    "np.empty((2,3))#返回未初始化的的垃圾值,不一定是全0数组"
   ]
  },
  {
   "cell_type": "code",
   "execution_count": 22,
   "id": "d22d0b43-b652-4a0c-88c0-3e050fb2f2e8",
   "metadata": {},
   "outputs": [
    {
     "data": {
      "text/plain": [
       "array([1., 1., 1., 1., 1., 1., 1., 1., 1., 1.])"
      ]
     },
     "execution_count": 22,
     "metadata": {},
     "output_type": "execute_result"
    }
   ],
   "source": [
    "np.ones(10)"
   ]
  },
  {
   "cell_type": "code",
   "execution_count": 23,
   "id": "e1f9515c-6c43-49c3-ae5e-9e73cc08bbcb",
   "metadata": {},
   "outputs": [
    {
     "data": {
      "text/plain": [
       "array([0, 1, 2, 3, 4, 5, 6, 7, 8, 9])"
      ]
     },
     "execution_count": 23,
     "metadata": {},
     "output_type": "execute_result"
    }
   ],
   "source": [
    "np.arange(10)"
   ]
  },
  {
   "cell_type": "code",
   "execution_count": 24,
   "id": "6a1c6aa9-1a33-47f2-8f77-35ff8a53fee7",
   "metadata": {},
   "outputs": [
    {
     "data": {
      "text/plain": [
       "array([[1., 0.],\n",
       "       [0., 1.]])"
      ]
     },
     "execution_count": 24,
     "metadata": {},
     "output_type": "execute_result"
    }
   ],
   "source": [
    "np.eye(2)#创建单位矩阵（对角线为1，其余为0）"
   ]
  },
  {
   "cell_type": "code",
   "execution_count": null,
   "id": "c0e07cea-f9bc-4c4d-8fbc-b902562dc447",
   "metadata": {},
   "outputs": [],
   "source": []
  },
  {
   "cell_type": "markdown",
   "id": "5d416fc2-5975-4824-b944-31ee78fab01b",
   "metadata": {},
   "source": [
    "### ndarray的数据类型"
   ]
  },
  {
   "cell_type": "code",
   "execution_count": 25,
   "id": "90d5c8f1-4e44-40d0-9aa1-2efbc3bf51ee",
   "metadata": {},
   "outputs": [],
   "source": [
    "arr3 = np.array([3.2,3.5,3.6,4.5,4.9,8.6,5.2])"
   ]
  },
  {
   "cell_type": "code",
   "execution_count": 26,
   "id": "fd1f1f92-db9c-4de8-a4b5-34cc9da647ff",
   "metadata": {},
   "outputs": [
    {
     "data": {
      "text/plain": [
       "array([3.2, 3.5, 3.6, 4.5, 4.9, 8.6, 5.2])"
      ]
     },
     "execution_count": 26,
     "metadata": {},
     "output_type": "execute_result"
    }
   ],
   "source": [
    "arr3"
   ]
  },
  {
   "cell_type": "code",
   "execution_count": 27,
   "id": "b444963f-b79d-4e5e-a161-4c4ce3c54103",
   "metadata": {},
   "outputs": [
    {
     "data": {
      "text/plain": [
       "array([3, 3, 3, 4, 4, 8, 5])"
      ]
     },
     "execution_count": 27,
     "metadata": {},
     "output_type": "execute_result"
    }
   ],
   "source": [
    "arr3.astype(np.int32)"
   ]
  },
  {
   "cell_type": "markdown",
   "id": "545940d9-d385-4d37-a6a9-e02c2116957c",
   "metadata": {},
   "source": [
    "- ndarray，一个具有矢量算术运算和复杂广播能力的快速且节省空间的多维数组。\n",
    "- array 将输入数据转化为ndarray\n",
    "- asarry 将输入转为ndarray，如果输入本身是一个ndarray就不进行复制\n",
    "- arange 类似于内置range,返回ndarray.\n",
    "- ones,ones_like\n",
    "- zeros,zeros_like\n",
    "- empty,empty_like\n",
    "- full,full_like 用fill value中的所有值，根据指定的形状和dtype创建一个数组。full_like使用另一个数组，用相同的形状和dtype创建。\n",
    "- eye,identity 创建一个正方的N*N单位矩阵，"
   ]
  },
  {
   "cell_type": "markdown",
   "id": "03cf5743-00de-4277-8856-02a900daa1c3",
   "metadata": {
    "jp-MarkdownHeadingCollapsed": true
   },
   "source": [
    "## numpy数组的运算"
   ]
  },
  {
   "cell_type": "code",
   "execution_count": 28,
   "id": "43cb4d1b-c1e1-43fa-89cb-b9102b3bdab3",
   "metadata": {},
   "outputs": [],
   "source": [
    "arr4 = np.array([[1,2,3],[4,5,6]])"
   ]
  },
  {
   "cell_type": "code",
   "execution_count": 29,
   "id": "68399afd-4179-4fdf-8438-05b444726043",
   "metadata": {},
   "outputs": [
    {
     "data": {
      "text/plain": [
       "array([[1, 2, 3],\n",
       "       [4, 5, 6]])"
      ]
     },
     "execution_count": 29,
     "metadata": {},
     "output_type": "execute_result"
    }
   ],
   "source": [
    "arr4"
   ]
  },
  {
   "cell_type": "code",
   "execution_count": 30,
   "id": "4e90a8bf-3da7-4036-8fc6-967f8d62aea2",
   "metadata": {},
   "outputs": [
    {
     "data": {
      "text/plain": [
       "array([[ 1,  4,  9],\n",
       "       [16, 25, 36]])"
      ]
     },
     "execution_count": 30,
     "metadata": {},
     "output_type": "execute_result"
    }
   ],
   "source": [
    "arr4*arr4"
   ]
  },
  {
   "cell_type": "code",
   "execution_count": 31,
   "id": "41361942-4977-4f33-8294-94345a78ae52",
   "metadata": {},
   "outputs": [
    {
     "data": {
      "text/plain": [
       "array([[0, 0, 0],\n",
       "       [0, 0, 0]])"
      ]
     },
     "execution_count": 31,
     "metadata": {},
     "output_type": "execute_result"
    }
   ],
   "source": [
    "arr4 - arr4"
   ]
  },
  {
   "cell_type": "code",
   "execution_count": 32,
   "id": "d21a0520-4c0b-4633-9a4e-2e7758825e92",
   "metadata": {},
   "outputs": [
    {
     "data": {
      "text/plain": [
       "array([[1.        , 0.5       , 0.33333333],\n",
       "       [0.25      , 0.2       , 0.16666667]])"
      ]
     },
     "execution_count": 32,
     "metadata": {},
     "output_type": "execute_result"
    }
   ],
   "source": [
    "1/arr4"
   ]
  },
  {
   "cell_type": "code",
   "execution_count": 33,
   "id": "bb7a1451-6fc4-4c20-9de3-648d01610b85",
   "metadata": {},
   "outputs": [
    {
     "data": {
      "text/plain": [
       "array([[1.        , 1.41421356, 1.73205081],\n",
       "       [2.        , 2.23606798, 2.44948974]])"
      ]
     },
     "execution_count": 33,
     "metadata": {},
     "output_type": "execute_result"
    }
   ],
   "source": [
    "arr4**0.5"
   ]
  },
  {
   "cell_type": "code",
   "execution_count": 34,
   "id": "6a782520-be5e-40cd-8f2d-531158809479",
   "metadata": {},
   "outputs": [],
   "source": [
    "arr5 = np.array([[1,2,3],[1,5,6]])"
   ]
  },
  {
   "cell_type": "code",
   "execution_count": 35,
   "id": "2c788501-7f88-4e05-af62-cc8602e5d770",
   "metadata": {},
   "outputs": [
    {
     "data": {
      "text/plain": [
       "array([[1, 2, 3],\n",
       "       [1, 5, 6]])"
      ]
     },
     "execution_count": 35,
     "metadata": {},
     "output_type": "execute_result"
    }
   ],
   "source": [
    "arr5"
   ]
  },
  {
   "cell_type": "code",
   "execution_count": 36,
   "id": "d3547322-8cf8-47dc-a04b-88ff8724e6dd",
   "metadata": {},
   "outputs": [
    {
     "data": {
      "text/plain": [
       "array([[False, False, False],\n",
       "       [ True, False, False]])"
      ]
     },
     "execution_count": 36,
     "metadata": {},
     "output_type": "execute_result"
    }
   ],
   "source": [
    "arr4 > arr5"
   ]
  },
  {
   "cell_type": "markdown",
   "id": "4187fc17-8859-4118-a206-e408f43bc9c7",
   "metadata": {
    "jp-MarkdownHeadingCollapsed": true
   },
   "source": [
    "## 基本的索引和切片"
   ]
  },
  {
   "cell_type": "code",
   "execution_count": 37,
   "id": "75b0b5aa-f2cd-4383-9862-d7e00fbf6148",
   "metadata": {},
   "outputs": [],
   "source": [
    "arr6 = np.arange(10)"
   ]
  },
  {
   "cell_type": "code",
   "execution_count": 38,
   "id": "f81ae3b6-b43b-46fc-bf71-c1bd1ef2ca40",
   "metadata": {},
   "outputs": [
    {
     "data": {
      "text/plain": [
       "array([0, 1, 2, 3, 4, 5, 6, 7, 8, 9])"
      ]
     },
     "execution_count": 38,
     "metadata": {},
     "output_type": "execute_result"
    }
   ],
   "source": [
    "arr6"
   ]
  },
  {
   "cell_type": "code",
   "execution_count": 39,
   "id": "0fa23dde-eeb3-4cd5-bf89-3aae274a7ce0",
   "metadata": {},
   "outputs": [
    {
     "data": {
      "text/plain": [
       "5"
      ]
     },
     "execution_count": 39,
     "metadata": {},
     "output_type": "execute_result"
    }
   ],
   "source": [
    "arr6[5]"
   ]
  },
  {
   "cell_type": "code",
   "execution_count": 40,
   "id": "7bd9ddf4-5b23-4858-a7cd-2b462e5ab2a3",
   "metadata": {},
   "outputs": [
    {
     "data": {
      "text/plain": [
       "array([5, 6, 7])"
      ]
     },
     "execution_count": 40,
     "metadata": {},
     "output_type": "execute_result"
    }
   ],
   "source": [
    "arr6[5:8]"
   ]
  },
  {
   "cell_type": "code",
   "execution_count": 41,
   "id": "6dfdeb47-c702-4a02-a8e5-897e25643c31",
   "metadata": {},
   "outputs": [],
   "source": [
    "arr6[5:8] = 12"
   ]
  },
  {
   "cell_type": "code",
   "execution_count": 42,
   "id": "ddd52c45-64d7-4820-9109-1390999a2dc2",
   "metadata": {},
   "outputs": [
    {
     "data": {
      "text/plain": [
       "array([ 0,  1,  2,  3,  4, 12, 12, 12,  8,  9])"
      ]
     },
     "execution_count": 42,
     "metadata": {},
     "output_type": "execute_result"
    }
   ],
   "source": [
    "arr6"
   ]
  },
  {
   "cell_type": "code",
   "execution_count": 43,
   "id": "a86dd252-f212-4c60-8709-d0bc5120a65f",
   "metadata": {},
   "outputs": [],
   "source": [
    "arr_list = arr6[5:8]"
   ]
  },
  {
   "cell_type": "code",
   "execution_count": 44,
   "id": "2d42879f-940c-4954-b55b-1ab9837ba43d",
   "metadata": {},
   "outputs": [
    {
     "data": {
      "text/plain": [
       "array([12, 12, 12])"
      ]
     },
     "execution_count": 44,
     "metadata": {},
     "output_type": "execute_result"
    }
   ],
   "source": [
    "arr_list"
   ]
  },
  {
   "cell_type": "code",
   "execution_count": 45,
   "id": "97011190-bb8a-4fab-94ca-58345bc56408",
   "metadata": {},
   "outputs": [],
   "source": [
    "arr_list[1] = 12345  #改变切片将会在原数组中改变"
   ]
  },
  {
   "cell_type": "code",
   "execution_count": 46,
   "id": "21194d8d-de5c-424a-9948-833847f0528e",
   "metadata": {},
   "outputs": [
    {
     "data": {
      "text/plain": [
       "array([    0,     1,     2,     3,     4,    12, 12345,    12,     8,\n",
       "           9])"
      ]
     },
     "execution_count": 46,
     "metadata": {},
     "output_type": "execute_result"
    }
   ],
   "source": [
    "arr6"
   ]
  },
  {
   "cell_type": "code",
   "execution_count": 47,
   "id": "c6c9c841-cd97-4c9f-aaeb-ae629322bb85",
   "metadata": {},
   "outputs": [],
   "source": [
    "arr_list[:] = 64"
   ]
  },
  {
   "cell_type": "code",
   "execution_count": 48,
   "id": "bea03603-73b8-40cb-b342-8a8cfea4c118",
   "metadata": {},
   "outputs": [
    {
     "data": {
      "text/plain": [
       "array([ 0,  1,  2,  3,  4, 64, 64, 64,  8,  9])"
      ]
     },
     "execution_count": 48,
     "metadata": {},
     "output_type": "execute_result"
    }
   ],
   "source": [
    "arr6"
   ]
  },
  {
   "cell_type": "code",
   "execution_count": 49,
   "id": "00e32873-6a6a-4429-9dc0-1382712c566f",
   "metadata": {},
   "outputs": [],
   "source": [
    "arr2d = np.array([[1,2,3],[1,3,2],[3,4,5]])"
   ]
  },
  {
   "cell_type": "code",
   "execution_count": 50,
   "id": "9ebd4709-b30c-4188-b723-9b7302c39c6b",
   "metadata": {},
   "outputs": [
    {
     "data": {
      "text/plain": [
       "array([[1, 2, 3],\n",
       "       [1, 3, 2],\n",
       "       [3, 4, 5]])"
      ]
     },
     "execution_count": 50,
     "metadata": {},
     "output_type": "execute_result"
    }
   ],
   "source": [
    "arr2d"
   ]
  },
  {
   "cell_type": "code",
   "execution_count": 51,
   "id": "88dd5422-2416-4a65-8856-ee558bebdb99",
   "metadata": {},
   "outputs": [
    {
     "data": {
      "text/plain": [
       "array([3, 4, 5])"
      ]
     },
     "execution_count": 51,
     "metadata": {},
     "output_type": "execute_result"
    }
   ],
   "source": [
    "arr2d[2]"
   ]
  },
  {
   "cell_type": "code",
   "execution_count": 52,
   "id": "561baa00-b372-4e7d-aca1-06ea83b547ad",
   "metadata": {},
   "outputs": [
    {
     "data": {
      "text/plain": [
       "3"
      ]
     },
     "execution_count": 52,
     "metadata": {},
     "output_type": "execute_result"
    }
   ],
   "source": [
    "arr2d[0][2]#分别表示不同的行和列"
   ]
  },
  {
   "cell_type": "code",
   "execution_count": 53,
   "id": "ede3f8e9-beab-40b4-8dc9-2a930773bfa9",
   "metadata": {},
   "outputs": [
    {
     "data": {
      "text/plain": [
       "3"
      ]
     },
     "execution_count": 53,
     "metadata": {},
     "output_type": "execute_result"
    }
   ],
   "source": [
    "arr2d[0, 2]"
   ]
  },
  {
   "cell_type": "code",
   "execution_count": 54,
   "id": "b9f4de38-57c7-4565-a124-ba575a58d031",
   "metadata": {},
   "outputs": [],
   "source": [
    "arr3d = np.array([[[1,2,3],[4,5,6]],[[7,8,9],[5,6,8]]])"
   ]
  },
  {
   "cell_type": "code",
   "execution_count": 55,
   "id": "5bf562ce-be63-4e29-8a29-f03637aff855",
   "metadata": {},
   "outputs": [
    {
     "data": {
      "text/plain": [
       "array([[[1, 2, 3],\n",
       "        [4, 5, 6]],\n",
       "\n",
       "       [[7, 8, 9],\n",
       "        [5, 6, 8]]])"
      ]
     },
     "execution_count": 55,
     "metadata": {},
     "output_type": "execute_result"
    }
   ],
   "source": [
    "arr3d"
   ]
  },
  {
   "cell_type": "code",
   "execution_count": 56,
   "id": "85dbc9b9-2c6c-45b3-9352-02d11099136e",
   "metadata": {},
   "outputs": [
    {
     "data": {
      "text/plain": [
       "array([[1, 2, 3],\n",
       "       [4, 5, 6]])"
      ]
     },
     "execution_count": 56,
     "metadata": {},
     "output_type": "execute_result"
    }
   ],
   "source": [
    "arr3d[0]"
   ]
  },
  {
   "cell_type": "code",
   "execution_count": 57,
   "id": "4e2b3f3e-871e-41e0-827e-71cdb52ee9bf",
   "metadata": {},
   "outputs": [],
   "source": [
    "old_values = arr3d[0].copy()"
   ]
  },
  {
   "cell_type": "code",
   "execution_count": 58,
   "id": "aee926cf-53a1-4496-8058-db712e40d2d6",
   "metadata": {},
   "outputs": [],
   "source": [
    "arr3d[0] = 42"
   ]
  },
  {
   "cell_type": "code",
   "execution_count": 59,
   "id": "5db13298-b718-42cf-bb68-fe890a344b14",
   "metadata": {},
   "outputs": [
    {
     "data": {
      "text/plain": [
       "array([[[42, 42, 42],\n",
       "        [42, 42, 42]],\n",
       "\n",
       "       [[ 7,  8,  9],\n",
       "        [ 5,  6,  8]]])"
      ]
     },
     "execution_count": 59,
     "metadata": {},
     "output_type": "execute_result"
    }
   ],
   "source": [
    "arr3d"
   ]
  },
  {
   "cell_type": "code",
   "execution_count": 60,
   "id": "015f1c4b-9e87-4983-9265-cc5c016e71ea",
   "metadata": {},
   "outputs": [],
   "source": [
    "arr3d[0] = old_values"
   ]
  },
  {
   "cell_type": "code",
   "execution_count": 61,
   "id": "2f2c2687-6192-4f25-9e39-2ead3a4ddb92",
   "metadata": {},
   "outputs": [
    {
     "data": {
      "text/plain": [
       "array([[[1, 2, 3],\n",
       "        [4, 5, 6]],\n",
       "\n",
       "       [[7, 8, 9],\n",
       "        [5, 6, 8]]])"
      ]
     },
     "execution_count": 61,
     "metadata": {},
     "output_type": "execute_result"
    }
   ],
   "source": [
    "arr3d"
   ]
  },
  {
   "cell_type": "code",
   "execution_count": 62,
   "id": "8786404b-b39b-498c-880f-2b5e0cea14be",
   "metadata": {},
   "outputs": [
    {
     "data": {
      "text/plain": [
       "array([4, 5, 6])"
      ]
     },
     "execution_count": 62,
     "metadata": {},
     "output_type": "execute_result"
    }
   ],
   "source": [
    "arr3d[0,1]"
   ]
  },
  {
   "cell_type": "code",
   "execution_count": 63,
   "id": "1952931e-cc5f-4227-b395-d420a9636c96",
   "metadata": {},
   "outputs": [],
   "source": [
    "x = arr3d[1]"
   ]
  },
  {
   "cell_type": "code",
   "execution_count": 64,
   "id": "fda6499f-5b98-4a44-a2eb-63ad4f093784",
   "metadata": {},
   "outputs": [
    {
     "data": {
      "text/plain": [
       "array([[7, 8, 9],\n",
       "       [5, 6, 8]])"
      ]
     },
     "execution_count": 64,
     "metadata": {},
     "output_type": "execute_result"
    }
   ],
   "source": [
    "x"
   ]
  },
  {
   "cell_type": "code",
   "execution_count": 65,
   "id": "659465ef-bc28-4051-a114-6a546cfb4673",
   "metadata": {},
   "outputs": [
    {
     "data": {
      "text/plain": [
       "array([7, 8, 9])"
      ]
     },
     "execution_count": 65,
     "metadata": {},
     "output_type": "execute_result"
    }
   ],
   "source": [
    "x[0]"
   ]
  },
  {
   "cell_type": "markdown",
   "id": "ca0c2097-c0a7-4258-8ae4-54668f13ebbd",
   "metadata": {},
   "source": [
    "### 切片索引"
   ]
  },
  {
   "cell_type": "code",
   "execution_count": 66,
   "id": "8e3b7f0e-5db8-40a4-ad89-ae1d1a886f49",
   "metadata": {},
   "outputs": [],
   "source": [
    "arr = np.array([1,2,3,4,5,6,7,8,9])"
   ]
  },
  {
   "cell_type": "code",
   "execution_count": 67,
   "id": "ceda8b57-5cbc-47e8-90f0-2efa306d5ece",
   "metadata": {},
   "outputs": [
    {
     "data": {
      "text/plain": [
       "array([1, 2, 3, 4, 5, 6, 7, 8, 9])"
      ]
     },
     "execution_count": 67,
     "metadata": {},
     "output_type": "execute_result"
    }
   ],
   "source": [
    "arr"
   ]
  },
  {
   "cell_type": "code",
   "execution_count": 68,
   "id": "7f236bf6-a29e-4dd4-afe9-daca8ed68be9",
   "metadata": {},
   "outputs": [
    {
     "data": {
      "text/plain": [
       "array([2, 3, 4, 5, 6])"
      ]
     },
     "execution_count": 68,
     "metadata": {},
     "output_type": "execute_result"
    }
   ],
   "source": [
    "arr[1:6]"
   ]
  },
  {
   "cell_type": "code",
   "execution_count": 69,
   "id": "c6bf2a8b-6859-44c5-a4c1-2b35fb06ccf1",
   "metadata": {},
   "outputs": [
    {
     "data": {
      "text/plain": [
       "array([[1, 2, 3],\n",
       "       [1, 3, 2],\n",
       "       [3, 4, 5]])"
      ]
     },
     "execution_count": 69,
     "metadata": {},
     "output_type": "execute_result"
    }
   ],
   "source": [
    "arr2d"
   ]
  },
  {
   "cell_type": "code",
   "execution_count": 70,
   "id": "d94964c1-773b-4d4a-995d-29832da40104",
   "metadata": {},
   "outputs": [
    {
     "data": {
      "text/plain": [
       "array([[1, 2, 3],\n",
       "       [1, 3, 2]])"
      ]
     },
     "execution_count": 70,
     "metadata": {},
     "output_type": "execute_result"
    }
   ],
   "source": [
    "arr2d[:2]"
   ]
  },
  {
   "cell_type": "code",
   "execution_count": 71,
   "id": "b374dd81-0fe5-4de7-9f30-cdc5e6163ff5",
   "metadata": {},
   "outputs": [
    {
     "data": {
      "text/plain": [
       "array([[2, 3],\n",
       "       [3, 2]])"
      ]
     },
     "execution_count": 71,
     "metadata": {},
     "output_type": "execute_result"
    }
   ],
   "source": [
    "arr2d[:2,1:]"
   ]
  },
  {
   "cell_type": "code",
   "execution_count": 72,
   "id": "cb429f7c-ab80-4d69-b5f6-39ac4c33129f",
   "metadata": {},
   "outputs": [
    {
     "data": {
      "text/plain": [
       "array([1, 3])"
      ]
     },
     "execution_count": 72,
     "metadata": {},
     "output_type": "execute_result"
    }
   ],
   "source": [
    "arr2d[1,:2]"
   ]
  },
  {
   "cell_type": "code",
   "execution_count": 73,
   "id": "75b25373-10ae-452e-8a0b-78e32af2ff65",
   "metadata": {},
   "outputs": [
    {
     "data": {
      "text/plain": [
       "array([3, 2])"
      ]
     },
     "execution_count": 73,
     "metadata": {},
     "output_type": "execute_result"
    }
   ],
   "source": [
    "arr2d[:2,2]"
   ]
  },
  {
   "cell_type": "code",
   "execution_count": 74,
   "id": "fc6af37f-ae48-44bd-868a-10b27cb1ab38",
   "metadata": {},
   "outputs": [
    {
     "data": {
      "text/plain": [
       "array([[1],\n",
       "       [1],\n",
       "       [3]])"
      ]
     },
     "execution_count": 74,
     "metadata": {},
     "output_type": "execute_result"
    }
   ],
   "source": [
    "arr2d[:,:1]"
   ]
  },
  {
   "cell_type": "code",
   "execution_count": 75,
   "id": "31a4dfd4-4d6c-4fcd-93e3-2aa515effdc1",
   "metadata": {},
   "outputs": [],
   "source": [
    "arr2d[:2,1:] = 0"
   ]
  },
  {
   "cell_type": "code",
   "execution_count": 76,
   "id": "309022c8-ba5d-4127-a5d8-ac9ec73df8b9",
   "metadata": {},
   "outputs": [
    {
     "data": {
      "text/plain": [
       "array([[1, 0, 0],\n",
       "       [1, 0, 0],\n",
       "       [3, 4, 5]])"
      ]
     },
     "execution_count": 76,
     "metadata": {},
     "output_type": "execute_result"
    }
   ],
   "source": [
    "arr2d"
   ]
  },
  {
   "cell_type": "markdown",
   "id": "ec0e3b32-fe01-4a92-9ad5-8262b058c80c",
   "metadata": {},
   "source": [
    "### 布尔型索引"
   ]
  },
  {
   "cell_type": "code",
   "execution_count": 77,
   "id": "ed272043-fe39-4204-a4a7-e49d6ef7cbc6",
   "metadata": {},
   "outputs": [],
   "source": [
    "names = np.array(['job','lp','job','efr','we','will','lpos'])"
   ]
  },
  {
   "cell_type": "code",
   "execution_count": 78,
   "id": "ea5eb88e-3f0d-42e8-ac1c-632ed3daad2e",
   "metadata": {},
   "outputs": [],
   "source": [
    "data = np.random.randn(7,4)"
   ]
  },
  {
   "cell_type": "code",
   "execution_count": 79,
   "id": "2f9969f8-f6df-4f9e-8be7-60f3ddef27b7",
   "metadata": {},
   "outputs": [
    {
     "data": {
      "text/plain": [
       "array(['job', 'lp', 'job', 'efr', 'we', 'will', 'lpos'], dtype='<U4')"
      ]
     },
     "execution_count": 79,
     "metadata": {},
     "output_type": "execute_result"
    }
   ],
   "source": [
    "names"
   ]
  },
  {
   "cell_type": "code",
   "execution_count": 80,
   "id": "0e89179d-3165-44aa-bd1e-77f74703e426",
   "metadata": {},
   "outputs": [],
   "source": [
    "data = np.random.randn(7,4)"
   ]
  },
  {
   "cell_type": "code",
   "execution_count": 81,
   "id": "a0cee7a8-5019-4fad-be58-06fd5b5b3f36",
   "metadata": {},
   "outputs": [
    {
     "data": {
      "text/plain": [
       "array([[ 0.9680821 ,  0.9293348 , -0.98908577,  2.46935717],\n",
       "       [-0.66423177,  0.65826898, -0.40131637,  0.2026753 ],\n",
       "       [-1.09163543,  0.51910652, -0.55968838, -1.38634647],\n",
       "       [ 1.11183757,  0.2269085 , -0.52210582,  0.42129595],\n",
       "       [ 0.71786219,  1.1846411 , -1.01231251,  0.1743579 ],\n",
       "       [-0.44296506, -0.38217522, -0.30408653, -1.35373246],\n",
       "       [ 0.60235838,  1.27839467, -1.61071483, -0.81630866]])"
      ]
     },
     "execution_count": 81,
     "metadata": {},
     "output_type": "execute_result"
    }
   ],
   "source": [
    "data"
   ]
  },
  {
   "cell_type": "code",
   "execution_count": 82,
   "id": "ffe75cdd-bcf6-4930-8a46-472cd6cb2363",
   "metadata": {},
   "outputs": [
    {
     "data": {
      "text/plain": [
       "array([ True, False,  True, False, False, False, False])"
      ]
     },
     "execution_count": 82,
     "metadata": {},
     "output_type": "execute_result"
    }
   ],
   "source": [
    "names == 'job'"
   ]
  },
  {
   "cell_type": "code",
   "execution_count": 83,
   "id": "77944333-4858-4588-9fa5-d257b8f4cfe0",
   "metadata": {},
   "outputs": [
    {
     "data": {
      "text/plain": [
       "array([[ 0.9680821 ,  0.9293348 , -0.98908577,  2.46935717],\n",
       "       [-1.09163543,  0.51910652, -0.55968838, -1.38634647]])"
      ]
     },
     "execution_count": 83,
     "metadata": {},
     "output_type": "execute_result"
    }
   ],
   "source": [
    "data[names == 'job']"
   ]
  },
  {
   "cell_type": "code",
   "execution_count": 84,
   "id": "ab4060a0-2c4f-439d-8baa-906c1f77d94f",
   "metadata": {},
   "outputs": [
    {
     "data": {
      "text/plain": [
       "array([[-0.44296506, -0.38217522, -0.30408653, -1.35373246]])"
      ]
     },
     "execution_count": 84,
     "metadata": {},
     "output_type": "execute_result"
    }
   ],
   "source": [
    "data[names == 'will']"
   ]
  },
  {
   "cell_type": "code",
   "execution_count": 85,
   "id": "97f2d4c9-c498-4992-b123-d808e94e0b26",
   "metadata": {},
   "outputs": [
    {
     "data": {
      "text/plain": [
       "array([-0.98908577, -0.55968838])"
      ]
     },
     "execution_count": 85,
     "metadata": {},
     "output_type": "execute_result"
    }
   ],
   "source": [
    "data[names=='job',2]"
   ]
  },
  {
   "cell_type": "code",
   "execution_count": 86,
   "id": "a2c04688-7a0f-4c2e-9ff7-8b4dc75a2329",
   "metadata": {},
   "outputs": [
    {
     "data": {
      "text/plain": [
       "array([False,  True, False,  True,  True,  True,  True])"
      ]
     },
     "execution_count": 86,
     "metadata": {},
     "output_type": "execute_result"
    }
   ],
   "source": [
    "names != 'job'"
   ]
  },
  {
   "cell_type": "code",
   "execution_count": 87,
   "id": "895db364-4e38-47a4-a996-2365919bdd7f",
   "metadata": {},
   "outputs": [
    {
     "data": {
      "text/plain": [
       "array([[-0.66423177,  0.65826898, -0.40131637,  0.2026753 ],\n",
       "       [ 1.11183757,  0.2269085 , -0.52210582,  0.42129595],\n",
       "       [ 0.71786219,  1.1846411 , -1.01231251,  0.1743579 ],\n",
       "       [-0.44296506, -0.38217522, -0.30408653, -1.35373246],\n",
       "       [ 0.60235838,  1.27839467, -1.61071483, -0.81630866]])"
      ]
     },
     "execution_count": 87,
     "metadata": {},
     "output_type": "execute_result"
    }
   ],
   "source": [
    "data[~(names == 'job')]#“~\"表示对条件进行否定"
   ]
  },
  {
   "cell_type": "code",
   "execution_count": 88,
   "id": "c718c704-ff6b-436b-bb71-87e65cb6100b",
   "metadata": {},
   "outputs": [],
   "source": [
    "cond = names == 'job'"
   ]
  },
  {
   "cell_type": "code",
   "execution_count": 89,
   "id": "5ffb3723-b8ca-447a-af14-6f46103c7836",
   "metadata": {},
   "outputs": [
    {
     "data": {
      "text/plain": [
       "array([[-0.66423177,  0.65826898, -0.40131637,  0.2026753 ],\n",
       "       [ 1.11183757,  0.2269085 , -0.52210582,  0.42129595],\n",
       "       [ 0.71786219,  1.1846411 , -1.01231251,  0.1743579 ],\n",
       "       [-0.44296506, -0.38217522, -0.30408653, -1.35373246],\n",
       "       [ 0.60235838,  1.27839467, -1.61071483, -0.81630866]])"
      ]
     },
     "execution_count": 89,
     "metadata": {},
     "output_type": "execute_result"
    }
   ],
   "source": [
    "data[~cond]"
   ]
  },
  {
   "cell_type": "markdown",
   "id": "7ba2759c-98be-46ba-94f4-abbbbabf955f",
   "metadata": {},
   "source": [
    "布尔条件：&（和）、|（或）注意and和or在布尔类型中无效"
   ]
  },
  {
   "cell_type": "code",
   "execution_count": 90,
   "id": "1692c3cd-6304-4ea9-964d-1a79c35e422d",
   "metadata": {},
   "outputs": [],
   "source": [
    "mask = (names == 'job')|(names == 'will')"
   ]
  },
  {
   "cell_type": "code",
   "execution_count": 91,
   "id": "9d010be1-1207-496c-a9f8-386f481023c9",
   "metadata": {},
   "outputs": [
    {
     "data": {
      "text/plain": [
       "array([ True, False,  True, False, False,  True, False])"
      ]
     },
     "execution_count": 91,
     "metadata": {},
     "output_type": "execute_result"
    }
   ],
   "source": [
    "mask"
   ]
  },
  {
   "cell_type": "code",
   "execution_count": 92,
   "id": "5ad44ea5-23cf-42d6-a167-8c0366120f19",
   "metadata": {},
   "outputs": [
    {
     "data": {
      "text/plain": [
       "array([[ 0.9680821 ,  0.9293348 , -0.98908577,  2.46935717],\n",
       "       [-1.09163543,  0.51910652, -0.55968838, -1.38634647],\n",
       "       [-0.44296506, -0.38217522, -0.30408653, -1.35373246]])"
      ]
     },
     "execution_count": 92,
     "metadata": {},
     "output_type": "execute_result"
    }
   ],
   "source": [
    "data[mask]"
   ]
  },
  {
   "cell_type": "code",
   "execution_count": 93,
   "id": "0b894e98-9338-482f-a8b2-d9ecb35773d3",
   "metadata": {},
   "outputs": [],
   "source": [
    "data[data<0]=0"
   ]
  },
  {
   "cell_type": "code",
   "execution_count": 94,
   "id": "733dc9e2-c559-4a42-9ec4-2129ff8d3dbc",
   "metadata": {},
   "outputs": [
    {
     "data": {
      "text/plain": [
       "array([[0.9680821 , 0.9293348 , 0.        , 2.46935717],\n",
       "       [0.        , 0.65826898, 0.        , 0.2026753 ],\n",
       "       [0.        , 0.51910652, 0.        , 0.        ],\n",
       "       [1.11183757, 0.2269085 , 0.        , 0.42129595],\n",
       "       [0.71786219, 1.1846411 , 0.        , 0.1743579 ],\n",
       "       [0.        , 0.        , 0.        , 0.        ],\n",
       "       [0.60235838, 1.27839467, 0.        , 0.        ]])"
      ]
     },
     "execution_count": 94,
     "metadata": {},
     "output_type": "execute_result"
    }
   ],
   "source": [
    "data"
   ]
  },
  {
   "cell_type": "code",
   "execution_count": 95,
   "id": "2974956a-0d74-4460-be72-5ee9a1185933",
   "metadata": {},
   "outputs": [],
   "source": [
    "data[names != 'job']=7"
   ]
  },
  {
   "cell_type": "code",
   "execution_count": 96,
   "id": "c2c576f7-5d39-4d4d-a9b2-5ce7f0376a91",
   "metadata": {},
   "outputs": [
    {
     "data": {
      "text/plain": [
       "array([[0.9680821 , 0.9293348 , 0.        , 2.46935717],\n",
       "       [7.        , 7.        , 7.        , 7.        ],\n",
       "       [0.        , 0.51910652, 0.        , 0.        ],\n",
       "       [7.        , 7.        , 7.        , 7.        ],\n",
       "       [7.        , 7.        , 7.        , 7.        ],\n",
       "       [7.        , 7.        , 7.        , 7.        ],\n",
       "       [7.        , 7.        , 7.        , 7.        ]])"
      ]
     },
     "execution_count": 96,
     "metadata": {},
     "output_type": "execute_result"
    }
   ],
   "source": [
    "data"
   ]
  },
  {
   "cell_type": "markdown",
   "id": "3f383d11-d945-44c5-ac95-2b0b61e186af",
   "metadata": {},
   "source": [
    "### 花式索引"
   ]
  },
  {
   "cell_type": "code",
   "execution_count": 3,
   "id": "7bfc52f7-e172-40dc-a605-058d4bf5b786",
   "metadata": {},
   "outputs": [],
   "source": [
    "points\t=\tnp.arange(-5,\t5,\t0.01)"
   ]
  },
  {
   "cell_type": "code",
   "execution_count": 15,
   "id": "bebf323e-9f8b-4d24-bbb2-7aabfffea61d",
   "metadata": {},
   "outputs": [],
   "source": [
    "xs,\tys\t=\tnp.meshgrid(points,\tpoints) \n",
    "#np.meshgrid函数接受两个一维数组，并产生两个二维矩阵（对应于两个数组中所有的(x,y)对）"
   ]
  },
  {
   "cell_type": "code",
   "execution_count": 16,
   "id": "199fb1c7-e872-43ca-b550-e472e10ac093",
   "metadata": {},
   "outputs": [
    {
     "data": {
      "text/plain": [
       "(array([[-5.  , -4.99, -4.98, ...,  4.97,  4.98,  4.99],\n",
       "        [-5.  , -4.99, -4.98, ...,  4.97,  4.98,  4.99],\n",
       "        [-5.  , -4.99, -4.98, ...,  4.97,  4.98,  4.99],\n",
       "        ...,\n",
       "        [-5.  , -4.99, -4.98, ...,  4.97,  4.98,  4.99],\n",
       "        [-5.  , -4.99, -4.98, ...,  4.97,  4.98,  4.99],\n",
       "        [-5.  , -4.99, -4.98, ...,  4.97,  4.98,  4.99]]),\n",
       " array([[-5.  , -5.  , -5.  , ..., -5.  , -5.  , -5.  ],\n",
       "        [-4.99, -4.99, -4.99, ..., -4.99, -4.99, -4.99],\n",
       "        [-4.98, -4.98, -4.98, ..., -4.98, -4.98, -4.98],\n",
       "        ...,\n",
       "        [ 4.97,  4.97,  4.97, ...,  4.97,  4.97,  4.97],\n",
       "        [ 4.98,  4.98,  4.98, ...,  4.98,  4.98,  4.98],\n",
       "        [ 4.99,  4.99,  4.99, ...,  4.99,  4.99,  4.99]]))"
      ]
     },
     "execution_count": 16,
     "metadata": {},
     "output_type": "execute_result"
    }
   ],
   "source": [
    "xs,\tys"
   ]
  },
  {
   "cell_type": "code",
   "execution_count": 17,
   "id": "f8d54826-9f52-4543-aa4e-df525a0e8981",
   "metadata": {},
   "outputs": [
    {
     "data": {
      "text/plain": [
       "array([[50.    , 49.9001, 49.8004, ..., 49.7009, 49.8004, 49.9001],\n",
       "       [49.9001, 49.8002, 49.7005, ..., 49.601 , 49.7005, 49.8002],\n",
       "       [49.8004, 49.7005, 49.6008, ..., 49.5013, 49.6008, 49.7005],\n",
       "       ...,\n",
       "       [49.7009, 49.601 , 49.5013, ..., 49.4018, 49.5013, 49.601 ],\n",
       "       [49.8004, 49.7005, 49.6008, ..., 49.5013, 49.6008, 49.7005],\n",
       "       [49.9001, 49.8002, 49.7005, ..., 49.601 , 49.7005, 49.8002]])"
      ]
     },
     "execution_count": 17,
     "metadata": {},
     "output_type": "execute_result"
    }
   ],
   "source": [
    "xs\t**\t2\t+\tys\t**\t2"
   ]
  },
  {
   "cell_type": "code",
   "execution_count": 18,
   "id": "79eff1c1-4a9f-4bb0-909f-ee760a916d22",
   "metadata": {},
   "outputs": [],
   "source": [
    "z\t=\tnp.sqrt(xs\t**\t2\t+\tys\t**\t2)"
   ]
  },
  {
   "cell_type": "code",
   "execution_count": 19,
   "id": "b32653b0-1efe-4f75-81dc-c06d7320792f",
   "metadata": {},
   "outputs": [
    {
     "data": {
      "text/plain": [
       "array([[7.07106781, 7.06400028, 7.05693985, ..., 7.04988652, 7.05693985,\n",
       "        7.06400028],\n",
       "       [7.06400028, 7.05692568, 7.04985815, ..., 7.04279774, 7.04985815,\n",
       "        7.05692568],\n",
       "       [7.05693985, 7.04985815, 7.04278354, ..., 7.03571603, 7.04278354,\n",
       "        7.04985815],\n",
       "       ...,\n",
       "       [7.04988652, 7.04279774, 7.03571603, ..., 7.0286414 , 7.03571603,\n",
       "        7.04279774],\n",
       "       [7.05693985, 7.04985815, 7.04278354, ..., 7.03571603, 7.04278354,\n",
       "        7.04985815],\n",
       "       [7.06400028, 7.05692568, 7.04985815, ..., 7.04279774, 7.04985815,\n",
       "        7.05692568]])"
      ]
     },
     "execution_count": 19,
     "metadata": {},
     "output_type": "execute_result"
    }
   ],
   "source": [
    "z"
   ]
  },
  {
   "cell_type": "code",
   "execution_count": 20,
   "id": "d5da8389-2b44-45dc-8941-a1169864e42a",
   "metadata": {},
   "outputs": [],
   "source": [
    "import\tmatplotlib.pyplot\tas\tplt"
   ]
  },
  {
   "cell_type": "code",
   "execution_count": 21,
   "id": "bd252510-3545-4305-8a31-00c5490ca193",
   "metadata": {},
   "outputs": [
    {
     "name": "stderr",
     "output_type": "stream",
     "text": [
      "<>:2: SyntaxWarning: invalid escape sequence '\\s'\n",
      "<>:2: SyntaxWarning: invalid escape sequence '\\s'\n",
      "C:\\Users\\YZAZN\\AppData\\Local\\Temp\\ipykernel_22236\\852138628.py:2: SyntaxWarning: invalid escape sequence '\\s'\n",
      "  plt.title(\"Image plot of $\\sqrt{x^2\t+y^2}$ for a grid of values\")\n"
     ]
    },
    {
     "data": {
      "text/plain": [
       "Text(0.5, 1.0, 'Image plot of $\\\\sqrt{x^2\\t+y^2}$ for a grid of values')"
      ]
     },
     "execution_count": 21,
     "metadata": {},
     "output_type": "execute_result"
    },
    {
     "data": {
      "image/png": "[encoded data removed]",
      "text/plain": [
       "<Figure size 640x480 with 2 Axes>"
      ]
     },
     "metadata": {},
     "output_type": "display_data"
    }
   ],
   "source": [
    "plt.imshow(z,\tcmap=plt.cm.gray);\tplt.colorbar()\n",
    "plt.title(\"Image plot of $\\sqrt{x^2\t+y^2}$ for a grid of values\")"
   ]
  },
  {
   "cell_type": "markdown",
   "id": "5acea0cb-2801-4e68-b428-2b55663b0f4e",
   "metadata": {},
   "source": [
    "用于数组的文件输入输出"
   ]
  },
  {
   "cell_type": "code",
   "execution_count": 4,
   "id": "931cf5fb-5627-4b00-9e50-1debea788fd7",
   "metadata": {},
   "outputs": [],
   "source": [
    "arr1\t=\tnp.arange(10)\n",
    "arr2\t=\tnp.arange(10,20)"
   ]
  },
  {
   "cell_type": "code",
   "execution_count": 30,
   "id": "f8eef5af-893b-47a5-970e-b626afc87f3f",
   "metadata": {},
   "outputs": [],
   "source": [
    "np.savez('array_archive.npz',\ta=arr1,\tb=arr2)#array_archive.npz是文件名"
   ]
  },
  {
   "cell_type": "code",
   "execution_count": 31,
   "id": "c5bbb7d5-7410-4eb1-a773-56de71f06d2c",
   "metadata": {},
   "outputs": [],
   "source": [
    "arch\t=\tnp.load('array_archive.npz')#加载array_archive.npz文件"
   ]
  },
  {
   "cell_type": "code",
   "execution_count": 32,
   "id": "67013ab7-663c-49a8-8750-9e8802e8d4d0",
   "metadata": {},
   "outputs": [
    {
     "data": {
      "text/plain": [
       "array([0, 1, 2, 3, 4, 5, 6, 7, 8, 9])"
      ]
     },
     "execution_count": 32,
     "metadata": {},
     "output_type": "execute_result"
    }
   ],
   "source": [
    "arch['a']"
   ]
  },
  {
   "cell_type": "code",
   "execution_count": 33,
   "id": "45f75fc1-84d4-4c45-921b-6066ee4bc364",
   "metadata": {},
   "outputs": [
    {
     "data": {
      "text/plain": [
       "array([10, 11, 12, 13, 14, 15, 16, 17, 18, 19])"
      ]
     },
     "execution_count": 33,
     "metadata": {},
     "output_type": "execute_result"
    }
   ],
   "source": [
    "arch['b']"
   ]
  },
  {
   "cell_type": "code",
   "execution_count": 5,
   "id": "a36c0bbd-f9ba-4619-a8fb-e00fdc90dc32",
   "metadata": {},
   "outputs": [],
   "source": [
    "np.savez_compressed('arrays_compressed.npz',\ta=arr1,\tb= arr2)#将数据压缩"
   ]
  },
  {
   "cell_type": "markdown",
   "id": "b3560ed8-ddd2-4dc3-97d8-c0d1b3eb16a9",
   "metadata": {},
   "source": [
    "## 线性代数"
   ]
  },
  {
   "cell_type": "markdown",
   "id": "4aee91b3-eb91-4dde-af82-6fdfdbf6211b",
   "metadata": {},
   "source": [
    "- NumPy提供了一个用于矩阵乘法的dot函数（既是一个数组方法也是numpy命名空间中的一个函数）"
   ]
  },
  {
   "cell_type": "markdown",
   "id": "64325ba6-b8ac-4273-8c5d-82a50aeec22b",
   "metadata": {},
   "source": [
    "- diag 以一维数组的形式返回方阵（非对角线）的对角线元素，或将一维数组转换为方阵（非对角线元素为0）\n",
    "- dot 矩阵乘法\n",
    "- trace 计算对角线元素的和\n",
    "- det 计算矩阵行列式\n",
    "- eig 计算方阵的特征值和特征向量\n",
    "- inv 计算方阵的逆\n",
    "- pinv 计算矩阵的Moore-Penrose伪逆\n",
    "- qr 计算QR分解\n",
    "- svd 计算奇异值分解\n",
    "- solve 解线性方程Ax=b,其中A为一个方阵\n",
    "- lstsp 计算Ax=b的最小二乘解"
   ]
  },
  {
   "cell_type": "markdown",
   "id": "f7a7bb6b-6936-4ec5-bde3-3dd54aceb377",
   "metadata": {},
   "source": [
    "## 随机漫步"
   ]
  },
  {
   "cell_type": "code",
   "execution_count": 97,
   "id": "d0a7e5e2-0704-404b-848c-57592d5c58fd",
   "metadata": {},
   "outputs": [],
   "source": [
    "import random\n",
    "position = 0\n",
    "walk = [position]\n",
    "steps = 1000\n",
    "for i in range (steps):\n",
    "    step = 1 if random.randint(0,1) else -1\n",
    "    position   += step\n",
    "    walk.append(position)"
   ]
  },
  {
   "cell_type": "code",
   "execution_count": 98,
   "id": "7d8ca0c4-e8ea-4092-aceb-1d2b16bb89c7",
   "metadata": {},
   "outputs": [],
   "source": [
    "import matplotlib.pyplot as plt"
   ]
  },
  {
   "cell_type": "code",
   "execution_count": 99,
   "id": "794ab6ff-7e8a-41f3-85fe-e0e51adf2989",
   "metadata": {},
   "outputs": [
    {
     "data": {
      "text/plain": [
       "[<matplotlib.lines.Line2D at 0x2706c38e900>]"
      ]
     },
     "execution_count": 99,
     "metadata": {},
     "output_type": "execute_result"
    },
    {
     "data": {
      "image/png": "[encoded data removed]",
      "text/plain": [
       "<Figure size 640x480 with 1 Axes>"
      ]
     },
     "metadata": {},
     "output_type": "display_data"
    }
   ],
   "source": [
    "plt.plot(walk[:100])"
   ]
  },
  {
   "cell_type": "code",
   "execution_count": 100,
   "id": "fac03b54-f73a-486a-9b19-f7a8095b6388",
   "metadata": {},
   "outputs": [],
   "source": [
    "p = np.random.normal(size=(2,3))"
   ]
  },
  {
   "cell_type": "code",
   "execution_count": 101,
   "id": "753af33a-64a7-410e-82cf-17214c2f17b4",
   "metadata": {
    "scrolled": true
   },
   "outputs": [
    {
     "data": {
      "text/plain": [
       "array([[-0.10838248,  1.49684687, -0.92171651],\n",
       "       [ 0.10934412,  1.08908919, -0.30272915]])"
      ]
     },
     "execution_count": 101,
     "metadata": {},
     "output_type": "execute_result"
    }
   ],
   "source": [
    "p"
   ]
  },
  {
   "cell_type": "code",
   "execution_count": 102,
   "id": "3c180662-09cc-4a88-9b43-68890486c329",
   "metadata": {},
   "outputs": [
    {
     "data": {
      "text/plain": [
       "[<matplotlib.lines.Line2D at 0x2706cd89a90>,\n",
       " <matplotlib.lines.Line2D at 0x2706cd89ac0>,\n",
       " <matplotlib.lines.Line2D at 0x2706cd89700>]"
      ]
     },
     "execution_count": 102,
     "metadata": {},
     "output_type": "execute_result"
    },
    {
     "data": {
      "image/png": "[encoded data removed]",
      "text/plain": [
       "<Figure size 640x480 with 1 Axes>"
      ]
     },
     "metadata": {},
     "output_type": "display_data"
    }
   ],
   "source": [
    "plt.plot(p)"
   ]
  },
  {
   "cell_type": "code",
   "execution_count": null,
   "id": "c27292db-48dc-4f60-ac62-cd14672d2f45",
   "metadata": {},
   "outputs": [],
   "source": []
  }
 ],
 "metadata": {
  "kernelspec": {
   "display_name": "Python [conda env:base] *",
   "language": "python",
   "name": "conda-base-py"
  },
  "language_info": {
   "codemirror_mode": {
    "name": "ipython",
    "version": 3
   },
   "file_extension": ".py",
   "mimetype": "text/x-python",
   "name": "python",
   "nbconvert_exporter": "python",
   "pygments_lexer": "ipython3",
   "version": "3.12.7"
  }
 },
 "nbformat": 4,
 "nbformat_minor": 5
}
